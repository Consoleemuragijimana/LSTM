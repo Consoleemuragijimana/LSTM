{
 "cells": [
  {
   "cell_type": "code",
   "execution_count": 2,
   "id": "4fce1b0d",
   "metadata": {},
   "outputs": [
    {
     "name": "stdout",
     "output_type": "stream",
     "text": [
      "Collecting keras\n",
      "  Downloading keras-2.12.0-py2.py3-none-any.whl (1.7 MB)\n",
      "\u001b[2K     \u001b[38;2;114;156;31m━━━━━━━━━━━━━━━━━━━━━━━━━━━━━━━━━━━━━━━━\u001b[0m \u001b[32m1.7/1.7 MB\u001b[0m \u001b[31m3.3 MB/s\u001b[0m eta \u001b[36m0:00:00\u001b[0mm eta \u001b[36m0:00:01\u001b[0m[36m0:00:01\u001b[0m0m\n",
      "\u001b[?25hInstalling collected packages: keras\n",
      "Successfully installed keras-2.12.0\n"
     ]
    }
   ],
   "source": [
    "#! pip install keras"
   ]
  },
  {
   "cell_type": "code",
   "execution_count": null,
   "id": "d7cf19fe",
   "metadata": {},
   "outputs": [
    {
     "name": "stdout",
     "output_type": "stream",
     "text": [
      "Collecting tensorflow\n",
      "  Downloading tensorflow-2.12.0-cp38-cp38-manylinux_2_17_x86_64.manylinux2014_x86_64.whl (585.9 MB)\n",
      "\u001b[2K     \u001b[38;2;249;38;114m━━━━━━━━━━━━━━━━━━━━━━\u001b[0m\u001b[38;5;237m╺\u001b[0m\u001b[38;5;237m━━━━━━━━━━━━━━━━\u001b[0m \u001b[32m337.7/585.9 MB\u001b[0m \u001b[31m7.8 MB/s\u001b[0m eta \u001b[36m0:00:32\u001b[0m:34\u001b[0m"
     ]
    }
   ],
   "source": [
    "! pip install tensorflow"
   ]
  },
  {
   "cell_type": "code",
   "execution_count": 3,
   "id": "706519dd",
   "metadata": {},
   "outputs": [
    {
     "ename": "ModuleNotFoundError",
     "evalue": "No module named 'tensorflow'",
     "output_type": "error",
     "traceback": [
      "\u001b[0;31m---------------------------------------------------------------------------\u001b[0m",
      "\u001b[0;31mModuleNotFoundError\u001b[0m                       Traceback (most recent call last)",
      "\u001b[0;32m/tmp/ipykernel_75602/3860972334.py\u001b[0m in \u001b[0;36m<module>\u001b[0;34m\u001b[0m\n\u001b[1;32m     13\u001b[0m \u001b[0;34m\u001b[0m\u001b[0m\n\u001b[1;32m     14\u001b[0m \u001b[0;31m# For building the LSTM Model\u001b[0m\u001b[0;34m\u001b[0m\u001b[0;34m\u001b[0m\u001b[0;34m\u001b[0m\u001b[0m\n\u001b[0;32m---> 15\u001b[0;31m \u001b[0;32mfrom\u001b[0m \u001b[0mkeras\u001b[0m\u001b[0;34m.\u001b[0m\u001b[0mmodels\u001b[0m \u001b[0;32mimport\u001b[0m \u001b[0mSequential\u001b[0m\u001b[0;34m\u001b[0m\u001b[0;34m\u001b[0m\u001b[0m\n\u001b[0m\u001b[1;32m     16\u001b[0m \u001b[0;32mfrom\u001b[0m \u001b[0mkeras\u001b[0m\u001b[0;34m.\u001b[0m\u001b[0mlayers\u001b[0m \u001b[0;32mimport\u001b[0m \u001b[0mLSTM\u001b[0m\u001b[0;34m,\u001b[0m \u001b[0mDense\u001b[0m\u001b[0;34m\u001b[0m\u001b[0;34m\u001b[0m\u001b[0m\n\u001b[1;32m     17\u001b[0m \u001b[0;34m\u001b[0m\u001b[0m\n",
      "\u001b[0;32m~/anaconda3/lib/python3.8/site-packages/keras/__init__.py\u001b[0m in \u001b[0;36m<module>\u001b[0;34m\u001b[0m\n\u001b[1;32m     19\u001b[0m \"\"\"\n\u001b[1;32m     20\u001b[0m \u001b[0;32mfrom\u001b[0m \u001b[0mkeras\u001b[0m \u001b[0;32mimport\u001b[0m \u001b[0mdistribute\u001b[0m\u001b[0;34m\u001b[0m\u001b[0;34m\u001b[0m\u001b[0m\n\u001b[0;32m---> 21\u001b[0;31m \u001b[0;32mfrom\u001b[0m \u001b[0mkeras\u001b[0m \u001b[0;32mimport\u001b[0m \u001b[0mmodels\u001b[0m\u001b[0;34m\u001b[0m\u001b[0;34m\u001b[0m\u001b[0m\n\u001b[0m\u001b[1;32m     22\u001b[0m \u001b[0;32mfrom\u001b[0m \u001b[0mkeras\u001b[0m\u001b[0;34m.\u001b[0m\u001b[0mengine\u001b[0m\u001b[0;34m.\u001b[0m\u001b[0minput_layer\u001b[0m \u001b[0;32mimport\u001b[0m \u001b[0mInput\u001b[0m\u001b[0;34m\u001b[0m\u001b[0;34m\u001b[0m\u001b[0m\n\u001b[1;32m     23\u001b[0m \u001b[0;32mfrom\u001b[0m \u001b[0mkeras\u001b[0m\u001b[0;34m.\u001b[0m\u001b[0mengine\u001b[0m\u001b[0;34m.\u001b[0m\u001b[0msequential\u001b[0m \u001b[0;32mimport\u001b[0m \u001b[0mSequential\u001b[0m\u001b[0;34m\u001b[0m\u001b[0;34m\u001b[0m\u001b[0m\n",
      "\u001b[0;32m~/anaconda3/lib/python3.8/site-packages/keras/models/__init__.py\u001b[0m in \u001b[0;36m<module>\u001b[0;34m\u001b[0m\n\u001b[1;32m     16\u001b[0m \u001b[0;34m\u001b[0m\u001b[0m\n\u001b[1;32m     17\u001b[0m \u001b[0;34m\u001b[0m\u001b[0m\n\u001b[0;32m---> 18\u001b[0;31m \u001b[0;32mfrom\u001b[0m \u001b[0mkeras\u001b[0m\u001b[0;34m.\u001b[0m\u001b[0mengine\u001b[0m\u001b[0;34m.\u001b[0m\u001b[0mfunctional\u001b[0m \u001b[0;32mimport\u001b[0m \u001b[0mFunctional\u001b[0m\u001b[0;34m\u001b[0m\u001b[0;34m\u001b[0m\u001b[0m\n\u001b[0m\u001b[1;32m     19\u001b[0m \u001b[0;32mfrom\u001b[0m \u001b[0mkeras\u001b[0m\u001b[0;34m.\u001b[0m\u001b[0mengine\u001b[0m\u001b[0;34m.\u001b[0m\u001b[0msequential\u001b[0m \u001b[0;32mimport\u001b[0m \u001b[0mSequential\u001b[0m\u001b[0;34m\u001b[0m\u001b[0;34m\u001b[0m\u001b[0m\n\u001b[1;32m     20\u001b[0m \u001b[0;32mfrom\u001b[0m \u001b[0mkeras\u001b[0m\u001b[0;34m.\u001b[0m\u001b[0mengine\u001b[0m\u001b[0;34m.\u001b[0m\u001b[0mtraining\u001b[0m \u001b[0;32mimport\u001b[0m \u001b[0mModel\u001b[0m\u001b[0;34m\u001b[0m\u001b[0;34m\u001b[0m\u001b[0m\n",
      "\u001b[0;32m~/anaconda3/lib/python3.8/site-packages/keras/engine/functional.py\u001b[0m in \u001b[0;36m<module>\u001b[0;34m\u001b[0m\n\u001b[1;32m     22\u001b[0m \u001b[0;32mimport\u001b[0m \u001b[0mwarnings\u001b[0m\u001b[0;34m\u001b[0m\u001b[0;34m\u001b[0m\u001b[0m\n\u001b[1;32m     23\u001b[0m \u001b[0;34m\u001b[0m\u001b[0m\n\u001b[0;32m---> 24\u001b[0;31m \u001b[0;32mimport\u001b[0m \u001b[0mtensorflow\u001b[0m\u001b[0;34m.\u001b[0m\u001b[0mcompat\u001b[0m\u001b[0;34m.\u001b[0m\u001b[0mv2\u001b[0m \u001b[0;32mas\u001b[0m \u001b[0mtf\u001b[0m\u001b[0;34m\u001b[0m\u001b[0;34m\u001b[0m\u001b[0m\n\u001b[0m\u001b[1;32m     25\u001b[0m \u001b[0;34m\u001b[0m\u001b[0m\n\u001b[1;32m     26\u001b[0m \u001b[0;32mfrom\u001b[0m \u001b[0mkeras\u001b[0m \u001b[0;32mimport\u001b[0m \u001b[0mbackend\u001b[0m\u001b[0;34m\u001b[0m\u001b[0;34m\u001b[0m\u001b[0m\n",
      "\u001b[0;31mModuleNotFoundError\u001b[0m: No module named 'tensorflow'"
     ]
    }
   ],
   "source": [
    "# Import all packages required\n",
    "\n",
    "import math\n",
    "import numpy as np\n",
    "import pandas as pd\n",
    "import matplotlib.pyplot as plt\n",
    "import datetime\n",
    "\n",
    "%matplotlib inline\n",
    "\n",
    "# For Data Preprocessing\n",
    "from sklearn.preprocessing import LabelEncoder, MinMaxScaler\n",
    "\n",
    "# For building the LSTM Model\n",
    "from keras.models import Sequential\n",
    "from keras.layers import LSTM, Dense\n",
    "\n",
    "# For evaluating the model\n",
    "from sklearn.metrics import mean_squared_error\n",
    "from sklearn.model_selection import train_test_split"
   ]
  },
  {
   "cell_type": "code",
   "execution_count": null,
   "id": "4540d728",
   "metadata": {},
   "outputs": [],
   "source": [
    "# Import data\n",
    "df = pd.read_csv('/home/consolee/Desktop/AIMS-Project/Kigali_PM2.5.csv')\n",
    "df"
   ]
  },
  {
   "cell_type": "code",
   "execution_count": null,
   "id": "329b652a",
   "metadata": {},
   "outputs": [],
   "source": [
    "df1=df.drop(['Site','Parameter','Year','Month','Day','Hour','AQI Category','Conc. Unit','Duration','QC Name','NowCast Conc.','AQI'],axis=1)\n",
    "df1"
   ]
  },
  {
   "cell_type": "code",
   "execution_count": null,
   "id": "3e5ac7e6",
   "metadata": {},
   "outputs": [],
   "source": [
    "data=pd.read_csv('/home/consolee/Desktop/AIMS-Project/data.csv')\n",
    "data"
   ]
  },
  {
   "cell_type": "code",
   "execution_count": null,
   "id": "c8958888",
   "metadata": {},
   "outputs": [],
   "source": [
    "data.isnull().sum()"
   ]
  },
  {
   "cell_type": "code",
   "execution_count": null,
   "id": "63aac263",
   "metadata": {},
   "outputs": [],
   "source": [
    "data.plot(x='Date', y='Raw Conc.', figsize=(12,6))\n",
    "plt.title('PM2.5 Time Series')\n",
    "plt.ylabel('PM2.5 Concentration')\n",
    "plt.show()"
   ]
  },
  {
   "cell_type": "code",
   "execution_count": null,
   "id": "c3e91913",
   "metadata": {},
   "outputs": [],
   "source": [
    "# Convert date column to numerical values\n",
    "data['Date'] = pd.to_datetime(data['Date']).astype(np.int64) // 10**9"
   ]
  },
  {
   "cell_type": "code",
   "execution_count": null,
   "id": "74b18a24",
   "metadata": {},
   "outputs": [],
   "source": [
    "# Split the dataset into training and testing sets\n",
    "train_size = int(len(data) * 0.8)\n",
    "train_data = data.iloc[:train_size, :]\n",
    "test_data = data.iloc[train_size:, :]"
   ]
  },
  {
   "cell_type": "code",
   "execution_count": 99,
   "id": "fd40d035",
   "metadata": {},
   "outputs": [],
   "source": [
    "# Scale the dataset\n",
    "scaler = MinMaxScaler()\n",
    "train_data = scaler.fit_transform(train_data)\n",
    "test_data = scaler.transform(test_data)"
   ]
  },
  {
   "cell_type": "code",
   "execution_count": 119,
   "id": "cc9812fe",
   "metadata": {},
   "outputs": [],
   "source": [
    "# Preprocess the dataset for LSTM\n",
    "def create_dataset(X, y, time_steps=1, n_features=1):\n",
    "    Xs, ys = [], []\n",
    "    for i in range(len(X) - time_steps):\n",
    "        Xs.append(X[i:i+time_steps])\n",
    "        ys.append(y[i+time_steps])\n",
    "    return np.array(Xs), np.array(ys)"
   ]
  },
  {
   "cell_type": "code",
   "execution_count": 120,
   "id": "c69bd758",
   "metadata": {},
   "outputs": [],
   "source": [
    "time_steps = 10\n",
    "X_train, y_train = create_dataset(train_data, train_data[:, 0], time_steps)\n",
    "X_test, y_test = create_dataset(test_data, test_data[:, 0], time_steps)"
   ]
  },
  {
   "cell_type": "code",
   "execution_count": 121,
   "id": "d6a948ba",
   "metadata": {},
   "outputs": [],
   "source": [
    "# Build the LSTM model\n",
    "model = Sequential()\n",
    "model.add(LSTM(50, activation='sigmoid', input_shape=(X_train.shape[1], X_train.shape[2])))\n",
    "model.add(Dense(1))\n",
    "model.compile(optimizer='adam', loss='mse')"
   ]
  },
  {
   "cell_type": "code",
   "execution_count": 122,
   "id": "8c781f86",
   "metadata": {},
   "outputs": [
    {
     "name": "stdout",
     "output_type": "stream",
     "text": [
      "Epoch 1/50\n",
      "186/186 [==============================] - 1s 2ms/step - loss: 0.0059 - val_loss: 3.3740e-06\n",
      "Epoch 2/50\n",
      "186/186 [==============================] - 0s 2ms/step - loss: 2.8031e-06 - val_loss: 1.4741e-06\n",
      "Epoch 3/50\n",
      "186/186 [==============================] - 0s 2ms/step - loss: 1.0105e-06 - val_loss: 4.5714e-07\n",
      "Epoch 4/50\n",
      "186/186 [==============================] - 0s 2ms/step - loss: 2.8049e-07 - val_loss: 1.0430e-07\n",
      "Epoch 5/50\n",
      "186/186 [==============================] - 0s 2ms/step - loss: 7.6169e-08 - val_loss: 3.5706e-08\n",
      "Epoch 6/50\n",
      "186/186 [==============================] - 0s 2ms/step - loss: 3.4059e-08 - val_loss: 2.9102e-08\n",
      "Epoch 7/50\n",
      "186/186 [==============================] - 0s 2ms/step - loss: 2.6194e-08 - val_loss: 2.5939e-08\n",
      "Epoch 8/50\n",
      "186/186 [==============================] - 0s 2ms/step - loss: 2.3643e-08 - val_loss: 2.3235e-08\n",
      "Epoch 9/50\n",
      "186/186 [==============================] - 0s 2ms/step - loss: 2.1528e-08 - val_loss: 2.0899e-08\n",
      "Epoch 10/50\n",
      "186/186 [==============================] - 0s 2ms/step - loss: 1.9683e-08 - val_loss: 2.0038e-08\n",
      "Epoch 11/50\n",
      "186/186 [==============================] - 0s 2ms/step - loss: 1.8351e-08 - val_loss: 1.6884e-08\n",
      "Epoch 12/50\n",
      "186/186 [==============================] - 0s 2ms/step - loss: 1.7040e-08 - val_loss: 1.5629e-08\n",
      "Epoch 13/50\n",
      "186/186 [==============================] - 0s 2ms/step - loss: 1.5292e-08 - val_loss: 1.3892e-08\n",
      "Epoch 14/50\n",
      "186/186 [==============================] - 0s 2ms/step - loss: 1.3890e-08 - val_loss: 1.2264e-08\n",
      "Epoch 15/50\n",
      "186/186 [==============================] - 0s 2ms/step - loss: 1.2479e-08 - val_loss: 1.1174e-08\n",
      "Epoch 16/50\n",
      "186/186 [==============================] - 0s 2ms/step - loss: 1.2294e-08 - val_loss: 1.0720e-08\n",
      "Epoch 17/50\n",
      "186/186 [==============================] - 0s 2ms/step - loss: 1.1479e-08 - val_loss: 9.7497e-09\n",
      "Epoch 18/50\n",
      "186/186 [==============================] - 0s 2ms/step - loss: 1.0573e-08 - val_loss: 9.0153e-09\n",
      "Epoch 19/50\n",
      "186/186 [==============================] - 0s 2ms/step - loss: 1.0663e-08 - val_loss: 1.0722e-08\n",
      "Epoch 20/50\n",
      "186/186 [==============================] - 0s 2ms/step - loss: 1.0301e-08 - val_loss: 8.2091e-09\n",
      "Epoch 21/50\n",
      "186/186 [==============================] - 0s 2ms/step - loss: 9.6436e-09 - val_loss: 8.3432e-09\n",
      "Epoch 22/50\n",
      "186/186 [==============================] - 0s 2ms/step - loss: 1.0796e-08 - val_loss: 9.5902e-09\n",
      "Epoch 23/50\n",
      "186/186 [==============================] - 0s 2ms/step - loss: 9.3509e-09 - val_loss: 8.3074e-09\n",
      "Epoch 24/50\n",
      "186/186 [==============================] - 0s 2ms/step - loss: 9.4086e-09 - val_loss: 1.0750e-08\n",
      "Epoch 25/50\n",
      "186/186 [==============================] - 0s 2ms/step - loss: 1.1626e-08 - val_loss: 9.5404e-09\n",
      "Epoch 26/50\n",
      "186/186 [==============================] - 0s 2ms/step - loss: 1.0470e-08 - val_loss: 6.7894e-09\n",
      "Epoch 27/50\n",
      "186/186 [==============================] - 0s 2ms/step - loss: 1.0929e-08 - val_loss: 1.0846e-08\n",
      "Epoch 28/50\n",
      "186/186 [==============================] - 0s 2ms/step - loss: 1.1097e-08 - val_loss: 8.8611e-09\n",
      "Epoch 29/50\n",
      "186/186 [==============================] - 0s 2ms/step - loss: 1.1249e-08 - val_loss: 7.5493e-09\n",
      "Epoch 30/50\n",
      "186/186 [==============================] - 0s 2ms/step - loss: 1.2018e-08 - val_loss: 6.1053e-09\n",
      "Epoch 31/50\n",
      "186/186 [==============================] - 0s 2ms/step - loss: 1.4777e-08 - val_loss: 1.6513e-08\n",
      "Epoch 32/50\n",
      "186/186 [==============================] - 0s 2ms/step - loss: 1.5683e-08 - val_loss: 5.3192e-09\n",
      "Epoch 33/50\n",
      "186/186 [==============================] - 0s 2ms/step - loss: 2.9263e-08 - val_loss: 5.8062e-08\n",
      "Epoch 34/50\n",
      "186/186 [==============================] - 0s 2ms/step - loss: 6.4861e-08 - val_loss: 1.4625e-07\n",
      "Epoch 35/50\n",
      "186/186 [==============================] - 0s 2ms/step - loss: 2.2334e-06 - val_loss: 2.4618e-08\n",
      "Epoch 36/50\n",
      "186/186 [==============================] - 0s 2ms/step - loss: 1.2620e-06 - val_loss: 1.9364e-07\n",
      "Epoch 37/50\n",
      "186/186 [==============================] - 0s 2ms/step - loss: 1.8721e-06 - val_loss: 1.3342e-06\n",
      "Epoch 38/50\n",
      "186/186 [==============================] - 0s 2ms/step - loss: 1.9596e-06 - val_loss: 1.2179e-06\n",
      "Epoch 39/50\n",
      "186/186 [==============================] - 0s 2ms/step - loss: 1.6643e-06 - val_loss: 9.7208e-07\n",
      "Epoch 40/50\n",
      "186/186 [==============================] - 0s 2ms/step - loss: 2.0420e-06 - val_loss: 1.7378e-07\n",
      "Epoch 41/50\n",
      "186/186 [==============================] - 0s 2ms/step - loss: 1.6900e-06 - val_loss: 3.1564e-06\n",
      "Epoch 42/50\n",
      "186/186 [==============================] - 0s 2ms/step - loss: 1.9974e-06 - val_loss: 2.2770e-08\n",
      "Epoch 43/50\n",
      "186/186 [==============================] - 0s 2ms/step - loss: 1.7347e-06 - val_loss: 2.7675e-07\n",
      "Epoch 44/50\n",
      "186/186 [==============================] - 0s 2ms/step - loss: 2.1015e-06 - val_loss: 5.1757e-07\n",
      "Epoch 45/50\n",
      "186/186 [==============================] - 0s 2ms/step - loss: 1.4018e-06 - val_loss: 1.2766e-06\n",
      "Epoch 46/50\n",
      "186/186 [==============================] - 0s 2ms/step - loss: 2.2609e-06 - val_loss: 3.3064e-08\n",
      "Epoch 47/50\n",
      "186/186 [==============================] - 0s 2ms/step - loss: 1.7062e-06 - val_loss: 3.0226e-07\n",
      "Epoch 48/50\n",
      "186/186 [==============================] - 0s 2ms/step - loss: 1.7772e-06 - val_loss: 5.8406e-08\n",
      "Epoch 49/50\n",
      "186/186 [==============================] - 0s 2ms/step - loss: 2.0147e-06 - val_loss: 3.0589e-07\n",
      "Epoch 50/50\n",
      "186/186 [==============================] - 0s 2ms/step - loss: 1.4360e-06 - val_loss: 1.9728e-05\n"
     ]
    },
    {
     "data": {
      "text/plain": [
       "<keras.callbacks.History at 0x7fcf883bfcd0>"
      ]
     },
     "execution_count": 122,
     "metadata": {},
     "output_type": "execute_result"
    }
   ],
   "source": [
    "# Train the LSTM model\n",
    "model.fit(X_train, y_train, epochs=50, batch_size=32, validation_split=0.1, verbose=1)"
   ]
  },
  {
   "cell_type": "code",
   "execution_count": 137,
   "id": "9c1e90a5",
   "metadata": {},
   "outputs": [
    {
     "name": "stdout",
     "output_type": "stream",
     "text": [
      "Mean Squared Error: 1.97826957446523e-05\n"
     ]
    }
   ],
   "source": [
    "# Evaluate the LSTM model on the testing set\n",
    "mse = model.evaluate(X_test, y_test, verbose=0)\n",
    "print(\"Mean Squared Error:\", mse)"
   ]
  },
  {
   "cell_type": "code",
   "execution_count": 138,
   "id": "4c5266a4",
   "metadata": {},
   "outputs": [],
   "source": [
    "def create_dataset(X, y, time_steps=1, n_features=1):\n",
    "    Xs, ys = [], []\n",
    "    for i in range(len(X) - time_steps):\n",
    "        v = X[i:i+time_steps, :]\n",
    "        Xs.append(v)\n",
    "        ys.append(y[i+time_steps])\n",
    "    # If we don't have enough rows to create a dataset\n",
    "    # with `time_steps` rows, return a single sequence\n",
    "    if len(Xs) == 0:\n",
    "        return X.reshape(1, time_steps, n_features), np.array([])\n",
    "    return np.array(Xs), np.array(ys)"
   ]
  },
  {
   "cell_type": "code",
   "execution_count": null,
   "id": "b6e08da7",
   "metadata": {},
   "outputs": [],
   "source": []
  }
 ],
 "metadata": {
  "kernelspec": {
   "display_name": "Python 3 (ipykernel)",
   "language": "python",
   "name": "python3"
  },
  "language_info": {
   "codemirror_mode": {
    "name": "ipython",
    "version": 3
   },
   "file_extension": ".py",
   "mimetype": "text/x-python",
   "name": "python",
   "nbconvert_exporter": "python",
   "pygments_lexer": "ipython3",
   "version": "3.8.13"
  }
 },
 "nbformat": 4,
 "nbformat_minor": 5
}
